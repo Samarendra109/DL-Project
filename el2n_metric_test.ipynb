{
 "cells": [
  {
   "cell_type": "code",
   "execution_count": 1,
   "id": "7e742db7-91ed-4873-9587-b5658487168f",
   "metadata": {},
   "outputs": [],
   "source": [
    "import torch\n",
    "import torchvision\n",
    "import torchvision.transforms as transforms"
   ]
  },
  {
   "cell_type": "code",
   "execution_count": 2,
   "id": "856309f0-bdfc-41ab-a3bc-731db1644454",
   "metadata": {},
   "outputs": [
    {
     "name": "stdout",
     "output_type": "stream",
     "text": [
      "Files already downloaded and verified\n",
      "Files already downloaded and verified\n"
     ]
    }
   ],
   "source": [
    "transform = transforms.Compose(\n",
    "    [transforms.ToTensor(),\n",
    "     transforms.Normalize((0.5, 0.5, 0.5), (0.5, 0.5, 0.5))])\n",
    "\n",
    "batch_size = 256\n",
    "\n",
    "trainset = torchvision.datasets.CIFAR10(root='./data', train=True,\n",
    "                                        download=True, transform=transform)\n",
    "trainloader = torch.utils.data.DataLoader(trainset, batch_size=batch_size,\n",
    "                                          shuffle=True, num_workers=2)\n",
    "\n",
    "testset = torchvision.datasets.CIFAR10(root='./data', train=False,\n",
    "                                       download=True, transform=transform)\n",
    "testloader = torch.utils.data.DataLoader(testset, batch_size=batch_size,\n",
    "                                         shuffle=False, num_workers=2)\n",
    "\n",
    "classes = ('plane', 'car', 'bird', 'cat',\n",
    "           'deer', 'dog', 'frog', 'horse', 'ship', 'truck')"
   ]
  },
  {
   "cell_type": "code",
   "execution_count": 3,
   "id": "db278d75-5744-434a-b35f-c12bc2924099",
   "metadata": {},
   "outputs": [],
   "source": [
    "import torch.nn as nn\n",
    "import torch.nn.functional as F\n",
    "\n",
    "\n",
    "class Net(nn.Module):\n",
    "    def __init__(self):\n",
    "        super().__init__()\n",
    "        self.conv1 = nn.Conv2d(3, 6, 5)\n",
    "        self.pool = nn.MaxPool2d(2, 2)\n",
    "        self.conv2 = nn.Conv2d(6, 16, 5)\n",
    "        self.fc1 = nn.Linear(16 * 5 * 5, 120)\n",
    "        self.fc2 = nn.Linear(120, 84)\n",
    "        self.fc3 = nn.Linear(84, 10)\n",
    "\n",
    "    def forward(self, x):\n",
    "        x = self.pool(F.relu(self.conv1(x)))\n",
    "        x = self.pool(F.relu(self.conv2(x)))\n",
    "        x = torch.flatten(x, 1) # flatten all dimensions except batch\n",
    "        x = F.relu(self.fc1(x))\n",
    "        x = F.relu(self.fc2(x))\n",
    "        x = self.fc3(x)\n",
    "        return x"
   ]
  },
  {
   "cell_type": "code",
   "execution_count": 4,
   "id": "0c016b43-6137-4a4b-928e-a6847d4032dc",
   "metadata": {},
   "outputs": [],
   "source": [
    "%load_ext autoreload\n",
    "%autoreload 2"
   ]
  },
  {
   "cell_type": "code",
   "execution_count": 12,
   "id": "ad6a9141-ea7e-488e-8ef2-676014302c9e",
   "metadata": {},
   "outputs": [],
   "source": [
    "import torch.optim as optim\n",
    "from el2n import EL2NMetric\n",
    "\n",
    "device = torch.device('cuda:0' if torch.cuda.is_available() else 'cpu')\n",
    "model = Net()\n",
    "metric = EL2NMetric(model, 5, device)"
   ]
  },
  {
   "cell_type": "code",
   "execution_count": 13,
   "id": "3d1cc41b-d4d5-4a9b-b0fd-54ca5dd92576",
   "metadata": {},
   "outputs": [
    {
     "name": "stdout",
     "output_type": "stream",
     "text": [
      "Epoch 0\n",
      "\n"
     ]
    },
    {
     "name": "stderr",
     "output_type": "stream",
     "text": [
      "100%|██████████| 196/196 [00:06<00:00, 31.33it/s]\n"
     ]
    }
   ],
   "source": [
    "metric.train(trainloader, 1)"
   ]
  },
  {
   "cell_type": "code",
   "execution_count": 14,
   "id": "a083996c-08b3-4e08-94b4-4202c704066f",
   "metadata": {},
   "outputs": [
    {
     "name": "stdout",
     "output_type": "stream",
     "text": [
      "torch.Size([256, 10])\n",
      "torch.Size([256, 10])\n",
      "torch.Size([256, 10])\n",
      "torch.Size([256, 10])\n",
      "torch.Size([256, 10])\n",
      "torch.Size([256, 10])\n",
      "torch.Size([256, 10])\n",
      "torch.Size([256, 10])\n",
      "torch.Size([256, 10])\n",
      "torch.Size([256, 10])\n",
      "torch.Size([256, 10])\n",
      "torch.Size([256, 10])\n",
      "torch.Size([256, 10])\n",
      "torch.Size([256, 10])\n",
      "torch.Size([256, 10])\n",
      "torch.Size([256, 10])\n",
      "torch.Size([256, 10])\n",
      "torch.Size([256, 10])\n",
      "torch.Size([256, 10])\n",
      "torch.Size([256, 10])\n",
      "torch.Size([256, 10])\n",
      "torch.Size([256, 10])\n",
      "torch.Size([256, 10])\n",
      "torch.Size([256, 10])\n",
      "torch.Size([256, 10])\n",
      "torch.Size([256, 10])\n",
      "torch.Size([256, 10])\n",
      "torch.Size([256, 10])\n",
      "torch.Size([256, 10])\n",
      "torch.Size([256, 10])\n",
      "torch.Size([256, 10])\n",
      "torch.Size([256, 10])\n",
      "torch.Size([256, 10])\n",
      "torch.Size([256, 10])\n",
      "torch.Size([256, 10])\n",
      "torch.Size([256, 10])\n",
      "torch.Size([256, 10])\n",
      "torch.Size([256, 10])\n",
      "torch.Size([256, 10])\n",
      "torch.Size([16, 10])\n"
     ]
    }
   ],
   "source": [
    "metric.get_metric(testloader)"
   ]
  },
  {
   "cell_type": "code",
   "execution_count": null,
   "id": "02460b06-5476-434f-8f8d-dd507419e1b4",
   "metadata": {},
   "outputs": [],
   "source": []
  }
 ],
 "metadata": {
  "kernelspec": {
   "display_name": "Python 3",
   "language": "python",
   "name": "python3"
  },
  "language_info": {
   "codemirror_mode": {
    "name": "ipython",
    "version": 3
   },
   "file_extension": ".py",
   "mimetype": "text/x-python",
   "name": "python",
   "nbconvert_exporter": "python",
   "pygments_lexer": "ipython3",
   "version": "3.8.12"
  },
  "vscode": {
   "interpreter": {
    "hash": "916dbcbb3f70747c44a77c7bcd40155683ae19c65e1c03b4aa3499c5328201f1"
   }
  }
 },
 "nbformat": 4,
 "nbformat_minor": 5
}
